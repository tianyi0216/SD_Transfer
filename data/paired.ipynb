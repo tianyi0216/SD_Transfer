{
 "cells": [
  {
   "cell_type": "markdown",
   "id": "2ad1b26c",
   "metadata": {},
   "source": [
    "## Creating Paired Dataset\n",
    "\n",
    "This is used for creating the paired dataset given a source image, instruction, target image for training the diffusion model."
   ]
  },
  {
   "cell_type": "code",
   "execution_count": 1,
   "id": "1819466d-5887-49b6-95de-d06eb6a54b40",
   "metadata": {},
   "outputs": [],
   "source": [
    "import pandas as pd\n",
    "import os\n",
    "import random"
   ]
  },
  {
   "cell_type": "markdown",
   "id": "62c1bab1-0b98-4670-8062-1cf6585f1f0d",
   "metadata": {},
   "source": [
    "<h4>Manuually sort the txt file"
   ]
  },
  {
   "cell_type": "code",
   "execution_count": 2,
   "id": "5c54163f-846f-4be1-a4dd-293d362bdf4b",
   "metadata": {},
   "outputs": [
    {
     "data": {
      "text/plain": [
       "['monet.txt', 'cezanne.txt', 'ukiyoe.txt', 'vangogh.txt']"
      ]
     },
     "execution_count": 2,
     "metadata": {},
     "output_type": "execute_result"
    }
   ],
   "source": [
    "file_name = 'monet.txt cezanne.txt ukiyoe.txt vangogh.txt'\n",
    "file_name = file_name.split(' ')\n",
    "file_name"
   ]
  },
  {
   "cell_type": "code",
   "execution_count": 3,
   "id": "0f1bd069",
   "metadata": {},
   "outputs": [],
   "source": [
    "# remove extra newline in vangogh.txt\n",
    "with open('vangogh.txt', 'r') as f:\n",
    "    lines = f.readlines()\n",
    "with open('vangogh.txt', 'w') as f:\n",
    "    for line in lines:\n",
    "        if line != '\\n':\n",
    "            f.write(line)"
   ]
  },
  {
   "cell_type": "markdown",
   "id": "9a5929b5-1706-4abb-90ce-38d46221c65d",
   "metadata": {},
   "source": [
    "<h4>Get the entire instruction file"
   ]
  },
  {
   "cell_type": "code",
   "execution_count": 3,
   "id": "5c1f05cc-236c-4bba-8fed-f52f1824cf9b",
   "metadata": {},
   "outputs": [],
   "source": [
    "instruct = []\n",
    "for i in range(len(file_name)):\n",
    "    file = file_name[i]\n",
    "    f = open(file, 'r')\n",
    "    prompt = f.read()\n",
    "    f.close()\n",
    "    \n",
    "    prompt = prompt.split('\\n')[:-1]\n",
    "\n",
    "    if prompt[0][0] == '\"':\n",
    "        prompt = [p[1:-1]for p in prompt]\n",
    "    else:\n",
    "        prompt = [p for p in prompt]\n",
    "    \n",
    "    selected_items = random.choices(prompt, k=2000)\n",
    "    instruct.extend(selected_items)"
   ]
  },
  {
   "cell_type": "code",
   "execution_count": 5,
   "id": "b4bb20c9",
   "metadata": {},
   "outputs": [
    {
     "data": {
      "text/plain": [
       "8000"
      ]
     },
     "execution_count": 5,
     "metadata": {},
     "output_type": "execute_result"
    }
   ],
   "source": [
    "len(instruct)"
   ]
  },
  {
   "cell_type": "code",
   "execution_count": 6,
   "id": "c85a3b5c-6db2-45de-af97-63d36e9edd85",
   "metadata": {},
   "outputs": [],
   "source": [
    "with open(\"instruction.txt\", 'w') as file:\n",
    "    for sentence in instruct:\n",
    "        file.write(sentence + '\\n')"
   ]
  },
  {
   "cell_type": "markdown",
   "id": "3786280f-16b9-433d-a646-4417b067bdff",
   "metadata": {},
   "source": [
    "<h4> Paired in DataFrame"
   ]
  },
  {
   "cell_type": "code",
   "execution_count": 3,
   "id": "0c845742-1755-46ea-8fbc-2b56d959e1db",
   "metadata": {},
   "outputs": [],
   "source": [
    "paired_df = pd.DataFrame()\n",
    "paired_df['source_img'] = None\n",
    "paired_df['instruction'] = None\n",
    "paired_df['target_img'] = None\n",
    "\n",
    "def num(x):\n",
    "    return int(x.split(\".\")[0])\n",
    "    \n",
    "source = os.listdir(\"custom_datasets_3/source\")\n",
    "#source = sorted(source)[1:]\n",
    "source = sorted(source, key = num)\n",
    "target = os.listdir(\"custom_datasets_3/target\")"
   ]
  },
  {
   "cell_type": "code",
   "execution_count": 4,
   "id": "ee67ce35-6189-490f-ae0c-f6e706315f0b",
   "metadata": {},
   "outputs": [
    {
     "data": {
      "text/plain": [
       "8000"
      ]
     },
     "execution_count": 4,
     "metadata": {},
     "output_type": "execute_result"
    }
   ],
   "source": [
    "f = open('instruction.txt', 'r')\n",
    "prompt = f.read().split('\\n')[:-1]\n",
    "f.close()\n",
    "len(prompt)"
   ]
  },
  {
   "cell_type": "code",
   "execution_count": 5,
   "id": "bcba2cbf-e2d3-4eef-af94-8aec5bac22eb",
   "metadata": {},
   "outputs": [],
   "source": [
    "modified_prompt = []\n",
    "for ele in prompt:\n",
    "    if ele.endswith('\"'):\n",
    "        modified_prompt.append(ele[1:-1])\n",
    "    else:\n",
    "        modified_prompt.append(ele)"
   ]
  },
  {
   "cell_type": "code",
   "execution_count": 6,
   "id": "3e6504f2-acd1-462e-961b-1901c744873c",
   "metadata": {},
   "outputs": [
    {
     "data": {
      "text/plain": [
       "8000"
      ]
     },
     "execution_count": 6,
     "metadata": {},
     "output_type": "execute_result"
    }
   ],
   "source": [
    "len(modified_prompt)"
   ]
  },
  {
   "cell_type": "code",
   "execution_count": 7,
   "id": "ab7e5d8c-0382-415d-a9a4-602a1bdd330c",
   "metadata": {},
   "outputs": [],
   "source": [
    "paired_df['source_img'] = source\n",
    "paired_df['instruction'] = modified_prompt"
   ]
  },
  {
   "cell_type": "code",
   "execution_count": 8,
   "id": "edacf4de-f49b-4dbd-b11b-88cbbb54406b",
   "metadata": {},
   "outputs": [],
   "source": [
    "for i, row in enumerate(paired_df.itertuples()):\n",
    "    target_filename = row.source_img.split('.')[0] + '.png'\n",
    "    if target_filename in target:\n",
    "        paired_df.at[i, 'target_img'] = target_filename"
   ]
  },
  {
   "cell_type": "code",
   "execution_count": 9,
   "id": "1e2a5c99-0935-462a-9a19-02c660af9c81",
   "metadata": {},
   "outputs": [],
   "source": [
    "paired_df['source_img'] = paired_df['source_img'].apply(lambda x: os.path.join('custom_datasets_3/source', x))\n",
    "paired_df['target_img'] = paired_df['target_img'].apply(lambda x: os.path.join('custom_datasets_3/target', x))"
   ]
  },
  {
   "cell_type": "code",
   "execution_count": 10,
   "id": "19fed36b",
   "metadata": {},
   "outputs": [
    {
     "data": {
      "text/html": [
       "<div>\n",
       "<style scoped>\n",
       "    .dataframe tbody tr th:only-of-type {\n",
       "        vertical-align: middle;\n",
       "    }\n",
       "\n",
       "    .dataframe tbody tr th {\n",
       "        vertical-align: top;\n",
       "    }\n",
       "\n",
       "    .dataframe thead th {\n",
       "        text-align: right;\n",
       "    }\n",
       "</style>\n",
       "<table border=\"1\" class=\"dataframe\">\n",
       "  <thead>\n",
       "    <tr style=\"text-align: right;\">\n",
       "      <th></th>\n",
       "      <th>source_img</th>\n",
       "      <th>instruction</th>\n",
       "      <th>target_img</th>\n",
       "    </tr>\n",
       "  </thead>\n",
       "  <tbody>\n",
       "    <tr>\n",
       "      <th>0</th>\n",
       "      <td>custom_datasets_3/source/1.png</td>\n",
       "      <td>Drip Monet's artistic splendor into this image.</td>\n",
       "      <td>custom_datasets_3/target/1.png</td>\n",
       "    </tr>\n",
       "    <tr>\n",
       "      <th>1</th>\n",
       "      <td>custom_datasets_3/source/2.png</td>\n",
       "      <td>Reshape the image in Monet's artistic flair.</td>\n",
       "      <td>custom_datasets_3/target/2.png</td>\n",
       "    </tr>\n",
       "    <tr>\n",
       "      <th>2</th>\n",
       "      <td>custom_datasets_3/source/3.png</td>\n",
       "      <td>Give image a Monet-style rendition.</td>\n",
       "      <td>custom_datasets_3/target/3.png</td>\n",
       "    </tr>\n",
       "    <tr>\n",
       "      <th>3</th>\n",
       "      <td>custom_datasets_3/source/4.png</td>\n",
       "      <td>Imbue the image in the hues of Monet.</td>\n",
       "      <td>custom_datasets_3/target/4.png</td>\n",
       "    </tr>\n",
       "    <tr>\n",
       "      <th>4</th>\n",
       "      <td>custom_datasets_3/source/5.png</td>\n",
       "      <td>Replace the style of the image with that of Mo...</td>\n",
       "      <td>custom_datasets_3/target/5.png</td>\n",
       "    </tr>\n",
       "  </tbody>\n",
       "</table>\n",
       "</div>"
      ],
      "text/plain": [
       "                       source_img  \\\n",
       "0  custom_datasets_3/source/1.png   \n",
       "1  custom_datasets_3/source/2.png   \n",
       "2  custom_datasets_3/source/3.png   \n",
       "3  custom_datasets_3/source/4.png   \n",
       "4  custom_datasets_3/source/5.png   \n",
       "\n",
       "                                         instruction  \\\n",
       "0    Drip Monet's artistic splendor into this image.   \n",
       "1       Reshape the image in Monet's artistic flair.   \n",
       "2                Give image a Monet-style rendition.   \n",
       "3              Imbue the image in the hues of Monet.   \n",
       "4  Replace the style of the image with that of Mo...   \n",
       "\n",
       "                       target_img  \n",
       "0  custom_datasets_3/target/1.png  \n",
       "1  custom_datasets_3/target/2.png  \n",
       "2  custom_datasets_3/target/3.png  \n",
       "3  custom_datasets_3/target/4.png  \n",
       "4  custom_datasets_3/target/5.png  "
      ]
     },
     "execution_count": 10,
     "metadata": {},
     "output_type": "execute_result"
    }
   ],
   "source": [
    "paired_df.head()"
   ]
  },
  {
   "cell_type": "code",
   "execution_count": 11,
   "id": "d985e91a",
   "metadata": {},
   "outputs": [],
   "source": [
    "# split dataframe to half\n",
    "paired_df1 = paired_df[:4000].copy()\n",
    "paired_df2 = paired_df[4000:].copy()"
   ]
  },
  {
   "cell_type": "code",
   "execution_count": 12,
   "id": "ff76b2b2-a4ad-4857-999e-54520458b8eb",
   "metadata": {},
   "outputs": [],
   "source": [
    "from PIL import Image\n",
    "def convert_image(path):\n",
    "    try:\n",
    "        img = Image.open(path)\n",
    "        return img\n",
    "    except Exception as e:\n",
    "        print(f\"Error loading image {path}\")\n",
    "        print(e)\n",
    "        return None"
   ]
  },
  {
   "cell_type": "code",
   "execution_count": 13,
   "id": "ac068b6a-d1d8-4371-96a6-f7a11c672303",
   "metadata": {},
   "outputs": [],
   "source": [
    "paired_df1['source_img'] = paired_df1['source_img'].apply(lambda x: convert_image(x))\n",
    "paired_df1['target_img'] = paired_df1['target_img'].apply(lambda x: convert_image(x))"
   ]
  },
  {
   "cell_type": "code",
   "execution_count": 14,
   "id": "48326990-9298-478d-9314-eb3f08d6b18a",
   "metadata": {},
   "outputs": [],
   "source": [
    "paired_df1 = paired_df1.dropna()"
   ]
  },
  {
   "cell_type": "code",
   "execution_count": 15,
   "id": "b6d4d3d4",
   "metadata": {},
   "outputs": [
    {
     "data": {
      "text/html": [
       "<div>\n",
       "<style scoped>\n",
       "    .dataframe tbody tr th:only-of-type {\n",
       "        vertical-align: middle;\n",
       "    }\n",
       "\n",
       "    .dataframe tbody tr th {\n",
       "        vertical-align: top;\n",
       "    }\n",
       "\n",
       "    .dataframe thead th {\n",
       "        text-align: right;\n",
       "    }\n",
       "</style>\n",
       "<table border=\"1\" class=\"dataframe\">\n",
       "  <thead>\n",
       "    <tr style=\"text-align: right;\">\n",
       "      <th></th>\n",
       "      <th>source_img</th>\n",
       "      <th>instruction</th>\n",
       "      <th>target_img</th>\n",
       "    </tr>\n",
       "  </thead>\n",
       "  <tbody>\n",
       "    <tr>\n",
       "      <th>0</th>\n",
       "      <td>&lt;PIL.PngImagePlugin.PngImageFile image mode=RG...</td>\n",
       "      <td>Drip Monet's artistic splendor into this image.</td>\n",
       "      <td>&lt;PIL.PngImagePlugin.PngImageFile image mode=RG...</td>\n",
       "    </tr>\n",
       "    <tr>\n",
       "      <th>1</th>\n",
       "      <td>&lt;PIL.PngImagePlugin.PngImageFile image mode=RG...</td>\n",
       "      <td>Reshape the image in Monet's artistic flair.</td>\n",
       "      <td>&lt;PIL.PngImagePlugin.PngImageFile image mode=RG...</td>\n",
       "    </tr>\n",
       "    <tr>\n",
       "      <th>2</th>\n",
       "      <td>&lt;PIL.PngImagePlugin.PngImageFile image mode=RG...</td>\n",
       "      <td>Give image a Monet-style rendition.</td>\n",
       "      <td>&lt;PIL.PngImagePlugin.PngImageFile image mode=RG...</td>\n",
       "    </tr>\n",
       "    <tr>\n",
       "      <th>3</th>\n",
       "      <td>&lt;PIL.PngImagePlugin.PngImageFile image mode=RG...</td>\n",
       "      <td>Imbue the image in the hues of Monet.</td>\n",
       "      <td>&lt;PIL.PngImagePlugin.PngImageFile image mode=RG...</td>\n",
       "    </tr>\n",
       "    <tr>\n",
       "      <th>4</th>\n",
       "      <td>&lt;PIL.PngImagePlugin.PngImageFile image mode=RG...</td>\n",
       "      <td>Replace the style of the image with that of Mo...</td>\n",
       "      <td>&lt;PIL.PngImagePlugin.PngImageFile image mode=RG...</td>\n",
       "    </tr>\n",
       "  </tbody>\n",
       "</table>\n",
       "</div>"
      ],
      "text/plain": [
       "                                          source_img  \\\n",
       "0  <PIL.PngImagePlugin.PngImageFile image mode=RG...   \n",
       "1  <PIL.PngImagePlugin.PngImageFile image mode=RG...   \n",
       "2  <PIL.PngImagePlugin.PngImageFile image mode=RG...   \n",
       "3  <PIL.PngImagePlugin.PngImageFile image mode=RG...   \n",
       "4  <PIL.PngImagePlugin.PngImageFile image mode=RG...   \n",
       "\n",
       "                                         instruction  \\\n",
       "0    Drip Monet's artistic splendor into this image.   \n",
       "1       Reshape the image in Monet's artistic flair.   \n",
       "2                Give image a Monet-style rendition.   \n",
       "3              Imbue the image in the hues of Monet.   \n",
       "4  Replace the style of the image with that of Mo...   \n",
       "\n",
       "                                          target_img  \n",
       "0  <PIL.PngImagePlugin.PngImageFile image mode=RG...  \n",
       "1  <PIL.PngImagePlugin.PngImageFile image mode=RG...  \n",
       "2  <PIL.PngImagePlugin.PngImageFile image mode=RG...  \n",
       "3  <PIL.PngImagePlugin.PngImageFile image mode=RG...  \n",
       "4  <PIL.PngImagePlugin.PngImageFile image mode=RG...  "
      ]
     },
     "execution_count": 15,
     "metadata": {},
     "output_type": "execute_result"
    }
   ],
   "source": [
    "paired_df1.head()"
   ]
  },
  {
   "cell_type": "code",
   "execution_count": 16,
   "id": "bf54d2df",
   "metadata": {},
   "outputs": [
    {
     "data": {
      "text/plain": [
       "4000"
      ]
     },
     "execution_count": 16,
     "metadata": {},
     "output_type": "execute_result"
    }
   ],
   "source": [
    "len(paired_df1)"
   ]
  },
  {
   "cell_type": "code",
   "execution_count": 17,
   "id": "cb01f94b-b045-4d77-bbad-96cc072aced4",
   "metadata": {},
   "outputs": [],
   "source": [
    "from datasets import Dataset, Features, Image, Value"
   ]
  },
  {
   "cell_type": "code",
   "execution_count": 18,
   "id": "c31c79b9-fdee-4c99-bd02-a910360695fc",
   "metadata": {},
   "outputs": [],
   "source": [
    "df_to_dict = paired_df1.to_dict('list')\n",
    "features = Features({\n",
    "    'source_img': Image(decode=True),\n",
    "    'instruction': Value(dtype='string'),\n",
    "    'target_img': Image(decode=True)\n",
    "})"
   ]
  },
  {
   "cell_type": "code",
   "execution_count": 19,
   "id": "9ce70e6d-6df5-4f53-b7a3-89d4e2358aa3",
   "metadata": {},
   "outputs": [],
   "source": [
    "dataset = Dataset.from_dict(df_to_dict, features=features)"
   ]
  },
  {
   "cell_type": "code",
   "execution_count": 38,
   "id": "f22210c4",
   "metadata": {},
   "outputs": [
    {
     "data": {
      "application/vnd.jupyter.widget-view+json": {
       "model_id": "55769b61dbdf4d5896daa908561a5f32",
       "version_major": 2,
       "version_minor": 0
      },
      "text/plain": [
       "VBox(children=(HTML(value='<center> <img\\nsrc=https://huggingface.co/front/assets/huggingface_logo-noborder.sv…"
      ]
     },
     "metadata": {},
     "output_type": "display_data"
    }
   ],
   "source": [
    "from huggingface_hub import login\n",
    "login()"
   ]
  },
  {
   "cell_type": "code",
   "execution_count": 20,
   "id": "e09da15a-87a9-4731-9ed9-1663351fa5e5",
   "metadata": {},
   "outputs": [
    {
     "data": {
      "application/vnd.jupyter.widget-view+json": {
       "model_id": "eb7f75e3992a496f87f75d7ee85966c1",
       "version_major": 2,
       "version_minor": 0
      },
      "text/plain": [
       "Uploading the dataset shards:   0%|          | 0/2 [00:00<?, ?it/s]"
      ]
     },
     "metadata": {},
     "output_type": "display_data"
    },
    {
     "data": {
      "application/vnd.jupyter.widget-view+json": {
       "model_id": "01dbadbc1acb4d3f974c69044a9eb394",
       "version_major": 2,
       "version_minor": 0
      },
      "text/plain": [
       "Map:   0%|          | 0/2000 [00:00<?, ? examples/s]"
      ]
     },
     "metadata": {},
     "output_type": "display_data"
    },
    {
     "data": {
      "application/vnd.jupyter.widget-view+json": {
       "model_id": "0fcbaa2bebef4c45b55fcc431e9c90c9",
       "version_major": 2,
       "version_minor": 0
      },
      "text/plain": [
       "Creating parquet from Arrow format:   0%|          | 0/20 [00:00<?, ?ba/s]"
      ]
     },
     "metadata": {},
     "output_type": "display_data"
    },
    {
     "data": {
      "application/vnd.jupyter.widget-view+json": {
       "model_id": "073c2b70007346e59ee540f7b580e617",
       "version_major": 2,
       "version_minor": 0
      },
      "text/plain": [
       "Map:   0%|          | 0/2000 [00:00<?, ? examples/s]"
      ]
     },
     "metadata": {},
     "output_type": "display_data"
    },
    {
     "data": {
      "application/vnd.jupyter.widget-view+json": {
       "model_id": "466d43013bc741fb9fb63225103f446e",
       "version_major": 2,
       "version_minor": 0
      },
      "text/plain": [
       "Creating parquet from Arrow format:   0%|          | 0/20 [00:00<?, ?ba/s]"
      ]
     },
     "metadata": {},
     "output_type": "display_data"
    },
    {
     "data": {
      "application/vnd.jupyter.widget-view+json": {
       "model_id": "8752f65349ba4d5093194883a6f7437b",
       "version_major": 2,
       "version_minor": 0
      },
      "text/plain": [
       "README.md:   0%|          | 0.00/370 [00:00<?, ?B/s]"
      ]
     },
     "metadata": {},
     "output_type": "display_data"
    },
    {
     "data": {
      "text/plain": [
       "CommitInfo(commit_url='https://huggingface.co/datasets/tianyi0216/BigDS_Cycle/commit/64c12b04c5a2655b2e1c12d74dbbb1ac9a9d9f1f', commit_message='Upload dataset', commit_description='', oid='64c12b04c5a2655b2e1c12d74dbbb1ac9a9d9f1f', pr_url=None, pr_revision=None, pr_num=None)"
      ]
     },
     "execution_count": 20,
     "metadata": {},
     "output_type": "execute_result"
    }
   ],
   "source": [
    "dataset.push_to_hub('tianyi0216/BigDS_Cycle', private=False)"
   ]
  },
  {
   "cell_type": "code",
   "execution_count": null,
   "id": "efae0df7",
   "metadata": {},
   "outputs": [],
   "source": []
  }
 ],
 "metadata": {
  "kernelspec": {
   "display_name": "Python 3 (ipykernel)",
   "language": "python",
   "name": "python3"
  },
  "language_info": {
   "codemirror_mode": {
    "name": "ipython",
    "version": 3
   },
   "file_extension": ".py",
   "mimetype": "text/x-python",
   "name": "python",
   "nbconvert_exporter": "python",
   "pygments_lexer": "ipython3",
   "version": "3.11.5"
  }
 },
 "nbformat": 4,
 "nbformat_minor": 5
}
