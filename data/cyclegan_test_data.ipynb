{
 "cells": [
  {
   "cell_type": "markdown",
   "metadata": {},
   "source": [
    "## Generating Testing dataset for evluating CycleGAN.\n",
    "\n",
    "Using implementation of CycleGAN from github like cycleGAN_dataset, but adding captions to the images."
   ]
  },
  {
   "cell_type": "code",
   "execution_count": 1,
   "metadata": {},
   "outputs": [],
   "source": [
    "# import statements\n",
    "import os\n",
    "from subprocess import check_output\n",
    "import shutil\n",
    "import pandas as pd"
   ]
  },
  {
   "cell_type": "code",
   "execution_count": 2,
   "metadata": {},
   "outputs": [],
   "source": [
    "# run each model\n",
    "\n",
    "#example: python test.py --dataroot datasets/horse2zebra/testA --name horse2zebra_pretrained --model test --no_dropout\n",
    "#out = check_output([\"python\", \"test.py\", \"--dataroot\", \"datasets/summer2winter_yosemite/trainA\", \"--name\", \"summer2winter_yosemite_pretrained\", \"--model\", \"test\", \"--no_dropout\", \"--num_test\", \"500\", \"--gpu_ids\", \"-1\"])\n",
    "#out = check_output([\"python\", \"test.py\", \"--dataroot\", \"datasets/summer2winter_yosemite/trainB\", \"--name\", \"winter2summer_yosemite_pretrained\", \"--model\", \"test\", \"--no_dropout\", \"--num_test\", \"500\", \"--gpu_ids\", \"-1\"])\n",
    "out = check_output([\"python\", \"test.py\", \"--dataroot\", \"testing_set\", \"--name\", \"style_monet_pretrained\", \"--model\", \"test\", \"--no_dropout\", \"--num_test\", \"280\", \"--gpu_ids\", \"-1\"])\n",
    "out = check_output([\"python\", \"test.py\", \"--dataroot\", \"testing_set\", \"--name\", \"style_cezanne_pretrained\", \"--model\", \"test\", \"--no_dropout\", \"--num_test\", \"280\", \"--gpu_ids\", \"-1\"])\n",
    "out = check_output([\"python\", \"test.py\", \"--dataroot\", \"testing_set\", \"--name\", \"style_ukiyoe_pretrained\", \"--model\", \"test\", \"--no_dropout\", \"--num_test\", \"280\", \"--gpu_ids\", \"-1\"])\n",
    "out = check_output([\"python\", \"test.py\", \"--dataroot\", \"testing_set\", \"--name\", \"style_vangogh_pretrained\", \"--model\", \"test\", \"--no_dropout\", \"--num_test\", \"280\", \"--gpu_ids\", \"-1\"])"
   ]
  },
  {
   "cell_type": "code",
   "execution_count": 2,
   "metadata": {},
   "outputs": [],
   "source": [
    "all_imgs = sorted([f for f in os.listdir(\"testing_set\") if f.endswith(\".jpg\")])\n",
    "all_txts = sorted([f for f in os.listdir(\"testing_set\") if f.endswith(\".txt\")])"
   ]
  },
  {
   "cell_type": "code",
   "execution_count": 9,
   "metadata": {},
   "outputs": [
    {
     "data": {
      "text/plain": [
       "['monet.txt', 'vangogh.txt', 'cezanne.txt', 'ukiyoe.txt']"
      ]
     },
     "execution_count": 9,
     "metadata": {},
     "output_type": "execute_result"
    }
   ],
   "source": [
    "file_name = 'monet.txt vangogh.txt cezanne.txt ukiyoe.txt'\n",
    "file_name = file_name.split(' ')\n",
    "file_name"
   ]
  },
  {
   "cell_type": "code",
   "execution_count": 13,
   "metadata": {},
   "outputs": [
    {
     "data": {
      "text/plain": [
       "'000010000.jpg'"
      ]
     },
     "execution_count": 13,
     "metadata": {},
     "output_type": "execute_result"
    }
   ],
   "source": [
    "all_imgs[0]"
   ]
  },
  {
   "cell_type": "code",
   "execution_count": 14,
   "metadata": {},
   "outputs": [],
   "source": [
    "# monet first\n",
    "for i in range(0,70):\n",
    "    shutil.copy(\"testing_set/\" + all_imgs[i], \"new_ds/source/\" + all_imgs[i])\n",
    "    shutil.copy(\"testing_set/\" + all_txts[i], \"new_ds/source/\" + all_txts[i])\n",
    "    shutil.copy(\"results/style_monet_pretrained/test_latest/images/\" + all_imgs[i].split('.')[0] + \"_fake.png\", \"new_ds/target/\" + all_imgs[i])\n",
    "    shutil.copy(\"testing_set_target/\" + all_txts[i], \"new_ds/target/\" + all_txts[i])\n",
    "    "
   ]
  },
  {
   "cell_type": "code",
   "execution_count": 15,
   "metadata": {},
   "outputs": [],
   "source": [
    "# vangogh\n",
    "for i in range(70,140):\n",
    "    shutil.copy(\"testing_set/\" + all_imgs[i], \"new_ds/source/\" + all_imgs[i])\n",
    "    shutil.copy(\"testing_set/\" + all_txts[i], \"new_ds/source/\" + all_txts[i])\n",
    "    shutil.copy(\"results/style_vangogh_pretrained/test_latest/images/\" + all_imgs[i].split('.')[0] + \"_fake.png\", \"new_ds/target/\" + all_imgs[i])\n",
    "    shutil.copy(\"testing_set_target/\" + all_txts[i], \"new_ds/target/\" + all_txts[i])"
   ]
  },
  {
   "cell_type": "code",
   "execution_count": 16,
   "metadata": {},
   "outputs": [],
   "source": [
    "# cezannes\n",
    "for i in range(140,210):\n",
    "    shutil.copy(\"testing_set/\" + all_imgs[i], \"new_ds/source/\" + all_imgs[i])\n",
    "    shutil.copy(\"testing_set/\" + all_txts[i], \"new_ds/source/\" + all_txts[i])\n",
    "    shutil.copy(\"results/style_cezanne_pretrained/test_latest/images/\" + all_imgs[i].split('.')[0] + \"_fake.png\", \"new_ds/target/\" + all_imgs[i])\n",
    "    shutil.copy(\"testing_set_target/\" + all_txts[i], \"new_ds/target/\" + all_txts[i])"
   ]
  },
  {
   "cell_type": "code",
   "execution_count": 17,
   "metadata": {},
   "outputs": [],
   "source": [
    "# ukiyoe\n",
    "for i in range(210,280):\n",
    "    shutil.copy(\"testing_set/\" + all_imgs[i], \"new_ds/source/\" + all_imgs[i])\n",
    "    shutil.copy(\"testing_set/\" + all_txts[i], \"new_ds/source/\" + all_txts[i])\n",
    "    shutil.copy(\"results/style_ukiyoe_pretrained/test_latest/images/\" + all_imgs[i].split('.')[0] + \"_fake.png\", \"new_ds/target/\" + all_imgs[i])\n",
    "    shutil.copy(\"testing_set_target/\" + all_txts[i], \"new_ds/target/\" + all_txts[i])"
   ]
  },
  {
   "cell_type": "code",
   "execution_count": 4,
   "metadata": {},
   "outputs": [],
   "source": [
    "paired_df = pd.DataFrame()\n",
    "paired_df['source_img'] = None\n",
    "paired_df['source_caption'] = None\n",
    "paired_df[\"instruction\"] = None\n",
    "paired_df['target_img'] = None\n",
    "paired_df['target_caption'] = None"
   ]
  },
  {
   "cell_type": "code",
   "execution_count": 5,
   "metadata": {},
   "outputs": [],
   "source": [
    "source = sorted([f for f in os.listdir('new_ds/source') if f.endswith('.jpg')])\n",
    "target = sorted([f for f in os.listdir('new_ds/target') if f.endswith('.jpg')])\n",
    "caption = sorted([f for f in os.listdir('new_ds/source') if f.endswith('.txt')])\n",
    "caption_target = sorted([f for f in os.listdir('new_ds/target') if f.endswith('.txt')])"
   ]
  },
  {
   "cell_type": "code",
   "execution_count": 7,
   "metadata": {},
   "outputs": [],
   "source": [
    "from datasets import load_dataset\n",
    "\n",
    "dataset = load_dataset(\"tianyi0216/mscoco_testing\", split=\"train\")"
   ]
  },
  {
   "cell_type": "code",
   "execution_count": 11,
   "metadata": {},
   "outputs": [],
   "source": [
    "paired_df['instruction'] = dataset['instruction']"
   ]
  },
  {
   "cell_type": "code",
   "execution_count": 12,
   "metadata": {},
   "outputs": [],
   "source": [
    "paired_df['source_img'] = source\n",
    "paired_df['source_caption'] = caption"
   ]
  },
  {
   "cell_type": "code",
   "execution_count": 13,
   "metadata": {},
   "outputs": [],
   "source": [
    "paired_df['target_img'] = target\n",
    "paired_df['target_caption'] = caption_target"
   ]
  },
  {
   "cell_type": "code",
   "execution_count": 14,
   "metadata": {},
   "outputs": [],
   "source": [
    "from PIL import Image\n",
    "def convert_image(path):\n",
    "    try:\n",
    "        img = Image.open(path)\n",
    "        return img\n",
    "    except:\n",
    "        print(f\"Error loading image {path}\")\n",
    "        return None"
   ]
  },
  {
   "cell_type": "code",
   "execution_count": 15,
   "metadata": {},
   "outputs": [],
   "source": [
    "paired_df['source_img'] = paired_df['source_img'].apply(lambda x: os.path.join('new_ds/source/', x))\n",
    "paired_df['target_img'] = paired_df['target_img'].apply(lambda x: os.path.join('new_ds/target/', x))\n",
    "paired_df['source_caption'] = paired_df['source_caption'].apply(lambda x: os.path.join('new_ds/source/', x))\n",
    "paired_df['target_caption'] = paired_df['target_caption'].apply(lambda x: os.path.join('new_ds/target/', x))"
   ]
  },
  {
   "cell_type": "code",
   "execution_count": 16,
   "metadata": {},
   "outputs": [],
   "source": [
    "paired_df['source_img'] = paired_df['source_img'].apply(lambda x: convert_image(x))\n",
    "paired_df['target_img'] = paired_df['target_img'].apply(lambda x: convert_image(x))"
   ]
  },
  {
   "cell_type": "code",
   "execution_count": 17,
   "metadata": {},
   "outputs": [
    {
     "data": {
      "text/html": [
       "<div>\n",
       "<style scoped>\n",
       "    .dataframe tbody tr th:only-of-type {\n",
       "        vertical-align: middle;\n",
       "    }\n",
       "\n",
       "    .dataframe tbody tr th {\n",
       "        vertical-align: top;\n",
       "    }\n",
       "\n",
       "    .dataframe thead th {\n",
       "        text-align: right;\n",
       "    }\n",
       "</style>\n",
       "<table border=\"1\" class=\"dataframe\">\n",
       "  <thead>\n",
       "    <tr style=\"text-align: right;\">\n",
       "      <th></th>\n",
       "      <th>source_img</th>\n",
       "      <th>source_caption</th>\n",
       "      <th>instruction</th>\n",
       "      <th>target_img</th>\n",
       "      <th>target_caption</th>\n",
       "    </tr>\n",
       "  </thead>\n",
       "  <tbody>\n",
       "    <tr>\n",
       "      <th>0</th>\n",
       "      <td>&lt;PIL.JpegImagePlugin.JpegImageFile image mode=...</td>\n",
       "      <td>View of a bench overlooking the ocean and sky.</td>\n",
       "      <td>Evolve this image into Monet’s style.</td>\n",
       "      <td>&lt;PIL.PngImagePlugin.PngImageFile image mode=RG...</td>\n",
       "      <td>new_ds/target/000010000.txt</td>\n",
       "    </tr>\n",
       "    <tr>\n",
       "      <th>1</th>\n",
       "      <td>&lt;PIL.JpegImagePlugin.JpegImageFile image mode=...</td>\n",
       "      <td>Many yaks are grazing in a field of grass.</td>\n",
       "      <td>Post-process the image in Monet's style.</td>\n",
       "      <td>&lt;PIL.PngImagePlugin.PngImageFile image mode=RG...</td>\n",
       "      <td>new_ds/target/000010010.txt</td>\n",
       "    </tr>\n",
       "    <tr>\n",
       "      <th>2</th>\n",
       "      <td>&lt;PIL.JpegImagePlugin.JpegImageFile image mode=...</td>\n",
       "      <td>Several sheep are grazing in grass next to a w...</td>\n",
       "      <td>Show this image in a Monet format.</td>\n",
       "      <td>&lt;PIL.PngImagePlugin.PngImageFile image mode=RG...</td>\n",
       "      <td>new_ds/target/000010020.txt</td>\n",
       "    </tr>\n",
       "    <tr>\n",
       "      <th>3</th>\n",
       "      <td>&lt;PIL.JpegImagePlugin.JpegImageFile image mode=...</td>\n",
       "      <td>A large herd of sheep standing in the grass ne...</td>\n",
       "      <td>Maneuver the image according to Monet's style.</td>\n",
       "      <td>&lt;PIL.PngImagePlugin.PngImageFile image mode=RG...</td>\n",
       "      <td>new_ds/target/000010030.txt</td>\n",
       "    </tr>\n",
       "    <tr>\n",
       "      <th>4</th>\n",
       "      <td>&lt;PIL.JpegImagePlugin.JpegImageFile image mode=...</td>\n",
       "      <td>This is a view of a large hill behind a tree.</td>\n",
       "      <td>Recharge the image with Monet's expression.</td>\n",
       "      <td>&lt;PIL.PngImagePlugin.PngImageFile image mode=RG...</td>\n",
       "      <td>new_ds/target/000010040.txt</td>\n",
       "    </tr>\n",
       "  </tbody>\n",
       "</table>\n",
       "</div>"
      ],
      "text/plain": [
       "                                          source_img  \\\n",
       "0  <PIL.JpegImagePlugin.JpegImageFile image mode=...   \n",
       "1  <PIL.JpegImagePlugin.JpegImageFile image mode=...   \n",
       "2  <PIL.JpegImagePlugin.JpegImageFile image mode=...   \n",
       "3  <PIL.JpegImagePlugin.JpegImageFile image mode=...   \n",
       "4  <PIL.JpegImagePlugin.JpegImageFile image mode=...   \n",
       "\n",
       "                                      source_caption  \\\n",
       "0     View of a bench overlooking the ocean and sky.   \n",
       "1         Many yaks are grazing in a field of grass.   \n",
       "2  Several sheep are grazing in grass next to a w...   \n",
       "3  A large herd of sheep standing in the grass ne...   \n",
       "4     This is a view of a large hill behind a tree.    \n",
       "\n",
       "                                      instruction  \\\n",
       "0           Evolve this image into Monet’s style.   \n",
       "1        Post-process the image in Monet's style.   \n",
       "2              Show this image in a Monet format.   \n",
       "3  Maneuver the image according to Monet's style.   \n",
       "4     Recharge the image with Monet's expression.   \n",
       "\n",
       "                                          target_img  \\\n",
       "0  <PIL.PngImagePlugin.PngImageFile image mode=RG...   \n",
       "1  <PIL.PngImagePlugin.PngImageFile image mode=RG...   \n",
       "2  <PIL.PngImagePlugin.PngImageFile image mode=RG...   \n",
       "3  <PIL.PngImagePlugin.PngImageFile image mode=RG...   \n",
       "4  <PIL.PngImagePlugin.PngImageFile image mode=RG...   \n",
       "\n",
       "                target_caption  \n",
       "0  new_ds/target/000010000.txt  \n",
       "1  new_ds/target/000010010.txt  \n",
       "2  new_ds/target/000010020.txt  \n",
       "3  new_ds/target/000010030.txt  \n",
       "4  new_ds/target/000010040.txt  "
      ]
     },
     "execution_count": 17,
     "metadata": {},
     "output_type": "execute_result"
    }
   ],
   "source": [
    "paired_df['source_caption'] = paired_df['source_caption'].apply(lambda x: open(x, 'r').read())\n",
    "paired_df.head()"
   ]
  },
  {
   "cell_type": "code",
   "execution_count": 18,
   "metadata": {},
   "outputs": [],
   "source": [
    "def process_target_caption(filename):\n",
    "    with open(filename, 'r') as file:\n",
    "        lines = file.read().split('\\n')[:-1]\n",
    "\n",
    "    if len(lines) > 1:\n",
    "        lines = lines[1:]\n",
    "\n",
    "    outcaption = lines[0]\n",
    "\n",
    "    if outcaption.startswith(\"Output: \"):\n",
    "        outcaption = outcaption[len(\"Output: \"):]\n",
    "\n",
    "    if outcaption.startswith(\"Caption: \"):\n",
    "        outcaption = outcaption[len(\"Caption: \"):]\n",
    "\n",
    "    return outcaption"
   ]
  },
  {
   "cell_type": "code",
   "execution_count": 19,
   "metadata": {},
   "outputs": [
    {
     "data": {
      "text/html": [
       "<div>\n",
       "<style scoped>\n",
       "    .dataframe tbody tr th:only-of-type {\n",
       "        vertical-align: middle;\n",
       "    }\n",
       "\n",
       "    .dataframe tbody tr th {\n",
       "        vertical-align: top;\n",
       "    }\n",
       "\n",
       "    .dataframe thead th {\n",
       "        text-align: right;\n",
       "    }\n",
       "</style>\n",
       "<table border=\"1\" class=\"dataframe\">\n",
       "  <thead>\n",
       "    <tr style=\"text-align: right;\">\n",
       "      <th></th>\n",
       "      <th>source_img</th>\n",
       "      <th>source_caption</th>\n",
       "      <th>instruction</th>\n",
       "      <th>target_img</th>\n",
       "      <th>target_caption</th>\n",
       "    </tr>\n",
       "  </thead>\n",
       "  <tbody>\n",
       "    <tr>\n",
       "      <th>0</th>\n",
       "      <td>&lt;PIL.JpegImagePlugin.JpegImageFile image mode=...</td>\n",
       "      <td>View of a bench overlooking the ocean and sky.</td>\n",
       "      <td>Evolve this image into Monet’s style.</td>\n",
       "      <td>&lt;PIL.PngImagePlugin.PngImageFile image mode=RG...</td>\n",
       "      <td>\"Monet's rendition of a bench overlooking the ...</td>\n",
       "    </tr>\n",
       "    <tr>\n",
       "      <th>1</th>\n",
       "      <td>&lt;PIL.JpegImagePlugin.JpegImageFile image mode=...</td>\n",
       "      <td>Many yaks are grazing in a field of grass.</td>\n",
       "      <td>Post-process the image in Monet's style.</td>\n",
       "      <td>&lt;PIL.PngImagePlugin.PngImageFile image mode=RG...</td>\n",
       "      <td>A Monet-inspired scene of many yaks grazing in...</td>\n",
       "    </tr>\n",
       "    <tr>\n",
       "      <th>2</th>\n",
       "      <td>&lt;PIL.JpegImagePlugin.JpegImageFile image mode=...</td>\n",
       "      <td>Several sheep are grazing in grass next to a w...</td>\n",
       "      <td>Show this image in a Monet format.</td>\n",
       "      <td>&lt;PIL.PngImagePlugin.PngImageFile image mode=RG...</td>\n",
       "      <td>A Monet-style depiction of several sheep grazi...</td>\n",
       "    </tr>\n",
       "    <tr>\n",
       "      <th>3</th>\n",
       "      <td>&lt;PIL.JpegImagePlugin.JpegImageFile image mode=...</td>\n",
       "      <td>A large herd of sheep standing in the grass ne...</td>\n",
       "      <td>Maneuver the image according to Monet's style.</td>\n",
       "      <td>&lt;PIL.PngImagePlugin.PngImageFile image mode=RG...</td>\n",
       "      <td>Capturing Monet's style, a large herd of sheep...</td>\n",
       "    </tr>\n",
       "    <tr>\n",
       "      <th>4</th>\n",
       "      <td>&lt;PIL.JpegImagePlugin.JpegImageFile image mode=...</td>\n",
       "      <td>This is a view of a large hill behind a tree.</td>\n",
       "      <td>Recharge the image with Monet's expression.</td>\n",
       "      <td>&lt;PIL.PngImagePlugin.PngImageFile image mode=RG...</td>\n",
       "      <td>\"Monet-esque view of a large hill behind a tree.\"</td>\n",
       "    </tr>\n",
       "  </tbody>\n",
       "</table>\n",
       "</div>"
      ],
      "text/plain": [
       "                                          source_img  \\\n",
       "0  <PIL.JpegImagePlugin.JpegImageFile image mode=...   \n",
       "1  <PIL.JpegImagePlugin.JpegImageFile image mode=...   \n",
       "2  <PIL.JpegImagePlugin.JpegImageFile image mode=...   \n",
       "3  <PIL.JpegImagePlugin.JpegImageFile image mode=...   \n",
       "4  <PIL.JpegImagePlugin.JpegImageFile image mode=...   \n",
       "\n",
       "                                      source_caption  \\\n",
       "0     View of a bench overlooking the ocean and sky.   \n",
       "1         Many yaks are grazing in a field of grass.   \n",
       "2  Several sheep are grazing in grass next to a w...   \n",
       "3  A large herd of sheep standing in the grass ne...   \n",
       "4     This is a view of a large hill behind a tree.    \n",
       "\n",
       "                                      instruction  \\\n",
       "0           Evolve this image into Monet’s style.   \n",
       "1        Post-process the image in Monet's style.   \n",
       "2              Show this image in a Monet format.   \n",
       "3  Maneuver the image according to Monet's style.   \n",
       "4     Recharge the image with Monet's expression.   \n",
       "\n",
       "                                          target_img  \\\n",
       "0  <PIL.PngImagePlugin.PngImageFile image mode=RG...   \n",
       "1  <PIL.PngImagePlugin.PngImageFile image mode=RG...   \n",
       "2  <PIL.PngImagePlugin.PngImageFile image mode=RG...   \n",
       "3  <PIL.PngImagePlugin.PngImageFile image mode=RG...   \n",
       "4  <PIL.PngImagePlugin.PngImageFile image mode=RG...   \n",
       "\n",
       "                                      target_caption  \n",
       "0  \"Monet's rendition of a bench overlooking the ...  \n",
       "1  A Monet-inspired scene of many yaks grazing in...  \n",
       "2  A Monet-style depiction of several sheep grazi...  \n",
       "3  Capturing Monet's style, a large herd of sheep...  \n",
       "4  \"Monet-esque view of a large hill behind a tree.\"  "
      ]
     },
     "execution_count": 19,
     "metadata": {},
     "output_type": "execute_result"
    }
   ],
   "source": [
    "paired_df['target_caption'] = paired_df['target_caption'].apply(lambda x: process_target_caption(x))\n",
    "paired_df.head()"
   ]
  },
  {
   "cell_type": "code",
   "execution_count": 20,
   "metadata": {},
   "outputs": [],
   "source": [
    "from datasets import Dataset, Features, Image, Value\n",
    "\n",
    "df_to_dict = paired_df.to_dict('list')\n",
    "features = Features({\n",
    "    'source_img': Image(decode=True),\n",
    "    'source_caption': Value(dtype='string'),\n",
    "    'instruction': Value(dtype='string'),\n",
    "    'target_img': Image(decode=True),\n",
    "    'target_caption': Value(dtype='string')\n",
    "})"
   ]
  },
  {
   "cell_type": "code",
   "execution_count": 21,
   "metadata": {},
   "outputs": [],
   "source": [
    "dataset = Dataset.from_dict(df_to_dict, features=features)"
   ]
  },
  {
   "cell_type": "code",
   "execution_count": 22,
   "metadata": {},
   "outputs": [
    {
     "data": {
      "application/vnd.jupyter.widget-view+json": {
       "model_id": "4381a02acb2146539687b42d5e56886e",
       "version_major": 2,
       "version_minor": 0
      },
      "text/plain": [
       "Uploading the dataset shards:   0%|          | 0/1 [00:00<?, ?it/s]"
      ]
     },
     "metadata": {},
     "output_type": "display_data"
    },
    {
     "data": {
      "application/vnd.jupyter.widget-view+json": {
       "model_id": "3dbc8fc7951e4519beafdd4194138044",
       "version_major": 2,
       "version_minor": 0
      },
      "text/plain": [
       "Map:   0%|          | 0/280 [00:00<?, ? examples/s]"
      ]
     },
     "metadata": {},
     "output_type": "display_data"
    },
    {
     "data": {
      "application/vnd.jupyter.widget-view+json": {
       "model_id": "c1388b08b7584c75aabee2310d9bbd14",
       "version_major": 2,
       "version_minor": 0
      },
      "text/plain": [
       "Creating parquet from Arrow format:   0%|          | 0/3 [00:00<?, ?ba/s]"
      ]
     },
     "metadata": {},
     "output_type": "display_data"
    },
    {
     "data": {
      "text/plain": [
       "CommitInfo(commit_url='https://huggingface.co/datasets/tianyi0216/cyclegan_test_ds/commit/f39173f6ddcf3ae0d62744a44063e396eef12708', commit_message='Upload dataset', commit_description='', oid='f39173f6ddcf3ae0d62744a44063e396eef12708', pr_url=None, pr_revision=None, pr_num=None)"
      ]
     },
     "execution_count": 22,
     "metadata": {},
     "output_type": "execute_result"
    }
   ],
   "source": [
    "dataset.push_to_hub('tianyi0216/cyclegan_test_ds', private=False)"
   ]
  },
  {
   "cell_type": "code",
   "execution_count": null,
   "metadata": {},
   "outputs": [],
   "source": []
  }
 ],
 "metadata": {
  "kernelspec": {
   "display_name": "base",
   "language": "python",
   "name": "python3"
  },
  "language_info": {
   "codemirror_mode": {
    "name": "ipython",
    "version": 3
   },
   "file_extension": ".py",
   "mimetype": "text/x-python",
   "name": "python",
   "nbconvert_exporter": "python",
   "pygments_lexer": "ipython3",
   "version": "3.11.5"
  }
 },
 "nbformat": 4,
 "nbformat_minor": 2
}
