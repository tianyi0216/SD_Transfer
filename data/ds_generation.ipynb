{
 "cells": [
  {
   "cell_type": "code",
   "execution_count": 57,
   "metadata": {},
   "outputs": [],
   "source": [
    "import os\n",
    "from subprocess import check_output\n",
    "import pandas as pd\n",
    "import random"
   ]
  },
  {
   "cell_type": "code",
   "execution_count": 58,
   "metadata": {},
   "outputs": [],
   "source": [
    "# caption dataset\n",
    "caption_file_paths = sorted([f for f in os.listdir('testing_set') if f.endswith('.txt')])"
   ]
  },
  {
   "cell_type": "code",
   "execution_count": 34,
   "metadata": {},
   "outputs": [],
   "source": [
    "os.chdir(\"testing_set_target\")"
   ]
  },
  {
   "cell_type": "code",
   "execution_count": 36,
   "metadata": {},
   "outputs": [
    {
     "name": "stderr",
     "output_type": "stream",
     "text": [
      "Traceback (most recent call last):\n",
      "  File \"/Users/tianyixu/Documents/453_final/testing_set_target/../gpt.py\", line 52, in <module>\n",
      "    response_1 = get_ai_response(style, input_caption)\n",
      "                 ^^^^^^^^^^^^^^^^^^^^^^^^^^^^^^^^^^^^^\n",
      "  File \"/Users/tianyixu/Documents/453_final/testing_set_target/../gpt.py\", line 47, in get_ai_response\n",
      "    return str(ChatGPT_conversation(messages))\n",
      "               ^^^^^^^^^^^^^^^^^^^^^^^^^^^^^^\n",
      "  File \"/Users/tianyixu/Documents/453_final/testing_set_target/../gpt.py\", line 20, in ChatGPT_conversation\n",
      "    response = client.chat.completions.create(\n",
      "               ^^^^^^^^^^^^^^^^^^^^^^^^^^^^^^^\n",
      "  File \"/Users/tianyixu/anaconda3/lib/python3.11/site-packages/openai/_utils/_utils.py\", line 275, in wrapper\n",
      "    return func(*args, **kwargs)\n",
      "           ^^^^^^^^^^^^^^^^^^^^^\n",
      "  File \"/Users/tianyixu/anaconda3/lib/python3.11/site-packages/openai/resources/chat/completions.py\", line 667, in create\n",
      "    return self._post(\n",
      "           ^^^^^^^^^^^\n",
      "  File \"/Users/tianyixu/anaconda3/lib/python3.11/site-packages/openai/_base_client.py\", line 1213, in post\n",
      "    return cast(ResponseT, self.request(cast_to, opts, stream=stream, stream_cls=stream_cls))\n",
      "                           ^^^^^^^^^^^^^^^^^^^^^^^^^^^^^^^^^^^^^^^^^^^^^^^^^^^^^^^^^^^^^^^^^\n",
      "  File \"/Users/tianyixu/anaconda3/lib/python3.11/site-packages/openai/_base_client.py\", line 902, in request\n",
      "    return self._request(\n",
      "           ^^^^^^^^^^^^^^\n",
      "  File \"/Users/tianyixu/anaconda3/lib/python3.11/site-packages/openai/_base_client.py\", line 978, in _request\n",
      "    return self._retry_request(\n",
      "           ^^^^^^^^^^^^^^^^^^^^\n",
      "  File \"/Users/tianyixu/anaconda3/lib/python3.11/site-packages/openai/_base_client.py\", line 1026, in _retry_request\n",
      "    return self._request(\n",
      "           ^^^^^^^^^^^^^^\n",
      "  File \"/Users/tianyixu/anaconda3/lib/python3.11/site-packages/openai/_base_client.py\", line 978, in _request\n",
      "    return self._retry_request(\n",
      "           ^^^^^^^^^^^^^^^^^^^^\n",
      "  File \"/Users/tianyixu/anaconda3/lib/python3.11/site-packages/openai/_base_client.py\", line 1026, in _retry_request\n",
      "    return self._request(\n",
      "           ^^^^^^^^^^^^^^\n",
      "  File \"/Users/tianyixu/anaconda3/lib/python3.11/site-packages/openai/_base_client.py\", line 993, in _request\n",
      "    raise self._make_status_error_from_response(err.response) from None\n",
      "openai.RateLimitError: Error code: 429 - {'error': {'message': 'You exceeded your current quota, please check your plan and billing details. For more information on this error, read the docs: https://platform.openai.com/docs/guides/error-codes/api-errors.', 'type': 'insufficient_quota', 'param': None, 'code': 'insufficient_quota'}}\n"
     ]
    },
    {
     "ename": "CalledProcessError",
     "evalue": "Command '['python3', '../gpt.py', 'monet', 'View of a bench overlooking the ocean and sky.', '000010000.txt']' returned non-zero exit status 1.",
     "output_type": "error",
     "traceback": [
      "\u001b[0;31m---------------------------------------------------------------------------\u001b[0m",
      "\u001b[0;31mCalledProcessError\u001b[0m                        Traceback (most recent call last)",
      "Cell \u001b[0;32mIn[36], line 6\u001b[0m\n\u001b[1;32m      4\u001b[0m caption \u001b[38;5;241m=\u001b[39m caption_file\u001b[38;5;241m.\u001b[39mread()\n\u001b[1;32m      5\u001b[0m caption_file\u001b[38;5;241m.\u001b[39mclose()\n\u001b[0;32m----> 6\u001b[0m out \u001b[38;5;241m=\u001b[39m check_output([\u001b[38;5;124m\"\u001b[39m\u001b[38;5;124mpython3\u001b[39m\u001b[38;5;124m\"\u001b[39m, \u001b[38;5;124m\"\u001b[39m\u001b[38;5;124m../gpt.py\u001b[39m\u001b[38;5;124m\"\u001b[39m, \u001b[38;5;124m\"\u001b[39m\u001b[38;5;124mmonet\u001b[39m\u001b[38;5;124m\"\u001b[39m, caption, caption_file_path])\n",
      "File \u001b[0;32m~/anaconda3/lib/python3.11/subprocess.py:466\u001b[0m, in \u001b[0;36mcheck_output\u001b[0;34m(timeout, *popenargs, **kwargs)\u001b[0m\n\u001b[1;32m    463\u001b[0m         empty \u001b[38;5;241m=\u001b[39m \u001b[38;5;124mb\u001b[39m\u001b[38;5;124m'\u001b[39m\u001b[38;5;124m'\u001b[39m\n\u001b[1;32m    464\u001b[0m     kwargs[\u001b[38;5;124m'\u001b[39m\u001b[38;5;124minput\u001b[39m\u001b[38;5;124m'\u001b[39m] \u001b[38;5;241m=\u001b[39m empty\n\u001b[0;32m--> 466\u001b[0m \u001b[38;5;28;01mreturn\u001b[39;00m run(\u001b[38;5;241m*\u001b[39mpopenargs, stdout\u001b[38;5;241m=\u001b[39mPIPE, timeout\u001b[38;5;241m=\u001b[39mtimeout, check\u001b[38;5;241m=\u001b[39m\u001b[38;5;28;01mTrue\u001b[39;00m,\n\u001b[1;32m    467\u001b[0m            \u001b[38;5;241m*\u001b[39m\u001b[38;5;241m*\u001b[39mkwargs)\u001b[38;5;241m.\u001b[39mstdout\n",
      "File \u001b[0;32m~/anaconda3/lib/python3.11/subprocess.py:571\u001b[0m, in \u001b[0;36mrun\u001b[0;34m(input, capture_output, timeout, check, *popenargs, **kwargs)\u001b[0m\n\u001b[1;32m    569\u001b[0m     retcode \u001b[38;5;241m=\u001b[39m process\u001b[38;5;241m.\u001b[39mpoll()\n\u001b[1;32m    570\u001b[0m     \u001b[38;5;28;01mif\u001b[39;00m check \u001b[38;5;129;01mand\u001b[39;00m retcode:\n\u001b[0;32m--> 571\u001b[0m         \u001b[38;5;28;01mraise\u001b[39;00m CalledProcessError(retcode, process\u001b[38;5;241m.\u001b[39margs,\n\u001b[1;32m    572\u001b[0m                                  output\u001b[38;5;241m=\u001b[39mstdout, stderr\u001b[38;5;241m=\u001b[39mstderr)\n\u001b[1;32m    573\u001b[0m \u001b[38;5;28;01mreturn\u001b[39;00m CompletedProcess(process\u001b[38;5;241m.\u001b[39margs, retcode, stdout, stderr)\n",
      "\u001b[0;31mCalledProcessError\u001b[0m: Command '['python3', '../gpt.py', 'monet', 'View of a bench overlooking the ocean and sky.', '000010000.txt']' returned non-zero exit status 1."
     ]
    }
   ],
   "source": [
    "# generate captions\n",
    "for caption_file_path in caption_file_paths:\n",
    "    caption_file = open(f\"../testing_set/{caption_file_path}\", \"r\")\n",
    "    caption = caption_file.read()\n",
    "    caption_file.close()\n",
    "    out = check_output([\"python3\", \"../gpt.py\", \"monet\", caption, caption_file_path])"
   ]
  },
  {
   "cell_type": "code",
   "execution_count": 8,
   "metadata": {},
   "outputs": [],
   "source": [
    "os.chdir(\"..\")"
   ]
  },
  {
   "cell_type": "code",
   "execution_count": 66,
   "metadata": {},
   "outputs": [],
   "source": [
    "paired_df = pd.DataFrame()\n",
    "paired_df['source_img'] = None\n",
    "paired_df['source_caption'] = None\n",
    "paired_df['instruction'] = None\n",
    "paired_df['target_img'] = None\n",
    "paired_df['target_caption'] = None"
   ]
  },
  {
   "cell_type": "code",
   "execution_count": 20,
   "metadata": {},
   "outputs": [],
   "source": [
    "# remove duplicate txt extension in target file names\n",
    "for f in os.listdir('testing_set_target'):\n",
    "    if f.endswith('.txt'):\n",
    "        os.rename(os.path.join('testing_set_target', f), os.path.join('testing_set_target', f[:-4]))"
   ]
  },
  {
   "cell_type": "code",
   "execution_count": 64,
   "metadata": {},
   "outputs": [],
   "source": [
    "source = sorted([f for f in os.listdir('testing_set') if f.endswith('.jpg')])\n",
    "target = sorted([f for f in os.listdir('testing_set_target') if f.endswith('.jpg')])\n",
    "caption = sorted([f for f in os.listdir('testing_set') if f.endswith('.txt')])\n",
    "caption_target = sorted([f for f in os.listdir('testing_set_target') if f.endswith('.txt')])"
   ]
  },
  {
   "cell_type": "code",
   "execution_count": 65,
   "metadata": {},
   "outputs": [
    {
     "data": {
      "text/plain": [
       "['monet.txt', 'vangogh.txt', 'cezanne.txt', 'ukiyoe.txt']"
      ]
     },
     "execution_count": 65,
     "metadata": {},
     "output_type": "execute_result"
    }
   ],
   "source": [
    "file_name = 'monet.txt vangogh.txt cezanne.txt ukiyoe.txt'\n",
    "file_name = file_name.split(' ')\n",
    "file_name"
   ]
  },
  {
   "cell_type": "code",
   "execution_count": 67,
   "metadata": {},
   "outputs": [],
   "source": [
    "instruct = []\n",
    "for i in range(len(file_name)):\n",
    "    file = file_name[i]\n",
    "    f = open(file, 'r')\n",
    "    prompt = f.read()\n",
    "    f.close()\n",
    "    \n",
    "    prompt = prompt.split('\\n')[:-1]\n",
    "\n",
    "    if prompt[0][0] == '\"':\n",
    "        prompt = [p[1:-1]for p in prompt]\n",
    "    else:\n",
    "        prompt = [p for p in prompt]\n",
    "    \n",
    "    selected_items = random.choices(prompt, k=70)\n",
    "    instruct.extend(selected_items)\n"
   ]
  },
  {
   "cell_type": "code",
   "execution_count": 68,
   "metadata": {},
   "outputs": [
    {
     "data": {
      "text/html": [
       "<div>\n",
       "<style scoped>\n",
       "    .dataframe tbody tr th:only-of-type {\n",
       "        vertical-align: middle;\n",
       "    }\n",
       "\n",
       "    .dataframe tbody tr th {\n",
       "        vertical-align: top;\n",
       "    }\n",
       "\n",
       "    .dataframe thead th {\n",
       "        text-align: right;\n",
       "    }\n",
       "</style>\n",
       "<table border=\"1\" class=\"dataframe\">\n",
       "  <thead>\n",
       "    <tr style=\"text-align: right;\">\n",
       "      <th></th>\n",
       "      <th>source_img</th>\n",
       "      <th>source_caption</th>\n",
       "      <th>instruction</th>\n",
       "      <th>target_img</th>\n",
       "      <th>target_caption</th>\n",
       "    </tr>\n",
       "  </thead>\n",
       "  <tbody>\n",
       "    <tr>\n",
       "      <th>0</th>\n",
       "      <td>000010000.jpg</td>\n",
       "      <td>000010000.txt</td>\n",
       "      <td>Evolve this image into Monet’s style.</td>\n",
       "      <td>000010000.jpg</td>\n",
       "      <td>000010000.txt</td>\n",
       "    </tr>\n",
       "    <tr>\n",
       "      <th>1</th>\n",
       "      <td>000010010.jpg</td>\n",
       "      <td>000010010.txt</td>\n",
       "      <td>Post-process the image in Monet's style.</td>\n",
       "      <td>000010010.jpg</td>\n",
       "      <td>000010010.txt</td>\n",
       "    </tr>\n",
       "    <tr>\n",
       "      <th>2</th>\n",
       "      <td>000010020.jpg</td>\n",
       "      <td>000010020.txt</td>\n",
       "      <td>Show this image in a Monet format.</td>\n",
       "      <td>000010020.jpg</td>\n",
       "      <td>000010020.txt</td>\n",
       "    </tr>\n",
       "    <tr>\n",
       "      <th>3</th>\n",
       "      <td>000010030.jpg</td>\n",
       "      <td>000010030.txt</td>\n",
       "      <td>Maneuver the image according to Monet's style.</td>\n",
       "      <td>000010030.jpg</td>\n",
       "      <td>000010030.txt</td>\n",
       "    </tr>\n",
       "    <tr>\n",
       "      <th>4</th>\n",
       "      <td>000010040.jpg</td>\n",
       "      <td>000010040.txt</td>\n",
       "      <td>Recharge the image with Monet's expression.</td>\n",
       "      <td>000010040.jpg</td>\n",
       "      <td>000010040.txt</td>\n",
       "    </tr>\n",
       "  </tbody>\n",
       "</table>\n",
       "</div>"
      ],
      "text/plain": [
       "      source_img source_caption  \\\n",
       "0  000010000.jpg  000010000.txt   \n",
       "1  000010010.jpg  000010010.txt   \n",
       "2  000010020.jpg  000010020.txt   \n",
       "3  000010030.jpg  000010030.txt   \n",
       "4  000010040.jpg  000010040.txt   \n",
       "\n",
       "                                      instruction     target_img  \\\n",
       "0           Evolve this image into Monet’s style.  000010000.jpg   \n",
       "1        Post-process the image in Monet's style.  000010010.jpg   \n",
       "2              Show this image in a Monet format.  000010020.jpg   \n",
       "3  Maneuver the image according to Monet's style.  000010030.jpg   \n",
       "4     Recharge the image with Monet's expression.  000010040.jpg   \n",
       "\n",
       "  target_caption  \n",
       "0  000010000.txt  \n",
       "1  000010010.txt  \n",
       "2  000010020.txt  \n",
       "3  000010030.txt  \n",
       "4  000010040.txt  "
      ]
     },
     "execution_count": 68,
     "metadata": {},
     "output_type": "execute_result"
    }
   ],
   "source": [
    "paired_df['source_img'] = source\n",
    "paired_df['source_caption'] = caption\n",
    "paired_df['instruction'] = instruct\n",
    "paired_df['target_img'] = target\n",
    "paired_df['target_caption'] = caption_target\n",
    "paired_df.head()"
   ]
  },
  {
   "cell_type": "code",
   "execution_count": 69,
   "metadata": {},
   "outputs": [],
   "source": [
    "from PIL import Image\n",
    "def convert_image(path):\n",
    "    try:\n",
    "        img = Image.open(path)\n",
    "        return img\n",
    "    except:\n",
    "        print(f\"Error loading image {path}\")\n",
    "        return None"
   ]
  },
  {
   "cell_type": "code",
   "execution_count": 70,
   "metadata": {},
   "outputs": [],
   "source": [
    "paired_df['source_img'] = paired_df['source_img'].apply(lambda x: os.path.join('testing_set/', x))\n",
    "paired_df['target_img'] = paired_df['target_img'].apply(lambda x: os.path.join('testing_set_target/', x))\n",
    "paired_df['source_caption'] = paired_df['source_caption'].apply(lambda x: os.path.join('testing_set/', x))\n",
    "paired_df['target_caption'] = paired_df['target_caption'].apply(lambda x: os.path.join('testing_set_target/', x))"
   ]
  },
  {
   "cell_type": "code",
   "execution_count": 71,
   "metadata": {},
   "outputs": [],
   "source": [
    "paired_df['source_img'] = paired_df['source_img'].apply(lambda x: convert_image(x))\n",
    "paired_df['target_img'] = paired_df['target_img'].apply(lambda x: convert_image(x))"
   ]
  },
  {
   "cell_type": "code",
   "execution_count": 72,
   "metadata": {},
   "outputs": [
    {
     "data": {
      "text/html": [
       "<div>\n",
       "<style scoped>\n",
       "    .dataframe tbody tr th:only-of-type {\n",
       "        vertical-align: middle;\n",
       "    }\n",
       "\n",
       "    .dataframe tbody tr th {\n",
       "        vertical-align: top;\n",
       "    }\n",
       "\n",
       "    .dataframe thead th {\n",
       "        text-align: right;\n",
       "    }\n",
       "</style>\n",
       "<table border=\"1\" class=\"dataframe\">\n",
       "  <thead>\n",
       "    <tr style=\"text-align: right;\">\n",
       "      <th></th>\n",
       "      <th>source_img</th>\n",
       "      <th>source_caption</th>\n",
       "      <th>instruction</th>\n",
       "      <th>target_img</th>\n",
       "      <th>target_caption</th>\n",
       "    </tr>\n",
       "  </thead>\n",
       "  <tbody>\n",
       "    <tr>\n",
       "      <th>0</th>\n",
       "      <td>&lt;PIL.JpegImagePlugin.JpegImageFile image mode=...</td>\n",
       "      <td>View of a bench overlooking the ocean and sky.</td>\n",
       "      <td>Evolve this image into Monet’s style.</td>\n",
       "      <td>&lt;PIL.JpegImagePlugin.JpegImageFile image mode=...</td>\n",
       "      <td>testing_set_target/000010000.txt</td>\n",
       "    </tr>\n",
       "    <tr>\n",
       "      <th>1</th>\n",
       "      <td>&lt;PIL.JpegImagePlugin.JpegImageFile image mode=...</td>\n",
       "      <td>Many yaks are grazing in a field of grass.</td>\n",
       "      <td>Post-process the image in Monet's style.</td>\n",
       "      <td>&lt;PIL.JpegImagePlugin.JpegImageFile image mode=...</td>\n",
       "      <td>testing_set_target/000010010.txt</td>\n",
       "    </tr>\n",
       "    <tr>\n",
       "      <th>2</th>\n",
       "      <td>&lt;PIL.JpegImagePlugin.JpegImageFile image mode=...</td>\n",
       "      <td>Several sheep are grazing in grass next to a w...</td>\n",
       "      <td>Show this image in a Monet format.</td>\n",
       "      <td>&lt;PIL.JpegImagePlugin.JpegImageFile image mode=...</td>\n",
       "      <td>testing_set_target/000010020.txt</td>\n",
       "    </tr>\n",
       "    <tr>\n",
       "      <th>3</th>\n",
       "      <td>&lt;PIL.JpegImagePlugin.JpegImageFile image mode=...</td>\n",
       "      <td>A large herd of sheep standing in the grass ne...</td>\n",
       "      <td>Maneuver the image according to Monet's style.</td>\n",
       "      <td>&lt;PIL.JpegImagePlugin.JpegImageFile image mode=...</td>\n",
       "      <td>testing_set_target/000010030.txt</td>\n",
       "    </tr>\n",
       "    <tr>\n",
       "      <th>4</th>\n",
       "      <td>&lt;PIL.JpegImagePlugin.JpegImageFile image mode=...</td>\n",
       "      <td>This is a view of a large hill behind a tree.</td>\n",
       "      <td>Recharge the image with Monet's expression.</td>\n",
       "      <td>&lt;PIL.JpegImagePlugin.JpegImageFile image mode=...</td>\n",
       "      <td>testing_set_target/000010040.txt</td>\n",
       "    </tr>\n",
       "  </tbody>\n",
       "</table>\n",
       "</div>"
      ],
      "text/plain": [
       "                                          source_img  \\\n",
       "0  <PIL.JpegImagePlugin.JpegImageFile image mode=...   \n",
       "1  <PIL.JpegImagePlugin.JpegImageFile image mode=...   \n",
       "2  <PIL.JpegImagePlugin.JpegImageFile image mode=...   \n",
       "3  <PIL.JpegImagePlugin.JpegImageFile image mode=...   \n",
       "4  <PIL.JpegImagePlugin.JpegImageFile image mode=...   \n",
       "\n",
       "                                      source_caption  \\\n",
       "0     View of a bench overlooking the ocean and sky.   \n",
       "1         Many yaks are grazing in a field of grass.   \n",
       "2  Several sheep are grazing in grass next to a w...   \n",
       "3  A large herd of sheep standing in the grass ne...   \n",
       "4     This is a view of a large hill behind a tree.    \n",
       "\n",
       "                                      instruction  \\\n",
       "0           Evolve this image into Monet’s style.   \n",
       "1        Post-process the image in Monet's style.   \n",
       "2              Show this image in a Monet format.   \n",
       "3  Maneuver the image according to Monet's style.   \n",
       "4     Recharge the image with Monet's expression.   \n",
       "\n",
       "                                          target_img  \\\n",
       "0  <PIL.JpegImagePlugin.JpegImageFile image mode=...   \n",
       "1  <PIL.JpegImagePlugin.JpegImageFile image mode=...   \n",
       "2  <PIL.JpegImagePlugin.JpegImageFile image mode=...   \n",
       "3  <PIL.JpegImagePlugin.JpegImageFile image mode=...   \n",
       "4  <PIL.JpegImagePlugin.JpegImageFile image mode=...   \n",
       "\n",
       "                     target_caption  \n",
       "0  testing_set_target/000010000.txt  \n",
       "1  testing_set_target/000010010.txt  \n",
       "2  testing_set_target/000010020.txt  \n",
       "3  testing_set_target/000010030.txt  \n",
       "4  testing_set_target/000010040.txt  "
      ]
     },
     "execution_count": 72,
     "metadata": {},
     "output_type": "execute_result"
    }
   ],
   "source": [
    "paired_df['source_caption'] = paired_df['source_caption'].apply(lambda x: open(x, 'r').read())\n",
    "paired_df.head()"
   ]
  },
  {
   "cell_type": "code",
   "execution_count": 73,
   "metadata": {},
   "outputs": [],
   "source": [
    "def process_target_caption(filename):\n",
    "    with open(filename, 'r') as file:\n",
    "        lines = file.read().split('\\n')[:-1]\n",
    "\n",
    "    if len(lines) > 1:\n",
    "        lines = lines[1:]\n",
    "\n",
    "    outcaption = lines[0]\n",
    "\n",
    "    if outcaption.startswith(\"Output: \"):\n",
    "        outcaption = outcaption[len(\"Output: \"):]\n",
    "\n",
    "    if outcaption.startswith(\"Caption: \"):\n",
    "        outcaption = outcaption[len(\"Caption: \"):]\n",
    "\n",
    "    return outcaption\n",
    "\n",
    "    \n",
    "    "
   ]
  },
  {
   "cell_type": "code",
   "execution_count": 74,
   "metadata": {},
   "outputs": [],
   "source": [
    "paired_df['target_caption'] = paired_df['target_caption'].apply(lambda x: process_target_caption(x))"
   ]
  },
  {
   "cell_type": "code",
   "execution_count": 75,
   "metadata": {},
   "outputs": [
    {
     "data": {
      "text/html": [
       "<div>\n",
       "<style scoped>\n",
       "    .dataframe tbody tr th:only-of-type {\n",
       "        vertical-align: middle;\n",
       "    }\n",
       "\n",
       "    .dataframe tbody tr th {\n",
       "        vertical-align: top;\n",
       "    }\n",
       "\n",
       "    .dataframe thead th {\n",
       "        text-align: right;\n",
       "    }\n",
       "</style>\n",
       "<table border=\"1\" class=\"dataframe\">\n",
       "  <thead>\n",
       "    <tr style=\"text-align: right;\">\n",
       "      <th></th>\n",
       "      <th>source_img</th>\n",
       "      <th>source_caption</th>\n",
       "      <th>instruction</th>\n",
       "      <th>target_img</th>\n",
       "      <th>target_caption</th>\n",
       "    </tr>\n",
       "  </thead>\n",
       "  <tbody>\n",
       "    <tr>\n",
       "      <th>0</th>\n",
       "      <td>&lt;PIL.JpegImagePlugin.JpegImageFile image mode=...</td>\n",
       "      <td>View of a bench overlooking the ocean and sky.</td>\n",
       "      <td>Evolve this image into Monet’s style.</td>\n",
       "      <td>&lt;PIL.JpegImagePlugin.JpegImageFile image mode=...</td>\n",
       "      <td>\"Monet's rendition of a bench overlooking the ...</td>\n",
       "    </tr>\n",
       "    <tr>\n",
       "      <th>1</th>\n",
       "      <td>&lt;PIL.JpegImagePlugin.JpegImageFile image mode=...</td>\n",
       "      <td>Many yaks are grazing in a field of grass.</td>\n",
       "      <td>Post-process the image in Monet's style.</td>\n",
       "      <td>&lt;PIL.JpegImagePlugin.JpegImageFile image mode=...</td>\n",
       "      <td>A Monet-inspired scene of many yaks grazing in...</td>\n",
       "    </tr>\n",
       "    <tr>\n",
       "      <th>2</th>\n",
       "      <td>&lt;PIL.JpegImagePlugin.JpegImageFile image mode=...</td>\n",
       "      <td>Several sheep are grazing in grass next to a w...</td>\n",
       "      <td>Show this image in a Monet format.</td>\n",
       "      <td>&lt;PIL.JpegImagePlugin.JpegImageFile image mode=...</td>\n",
       "      <td>A Monet-style depiction of several sheep grazi...</td>\n",
       "    </tr>\n",
       "    <tr>\n",
       "      <th>3</th>\n",
       "      <td>&lt;PIL.JpegImagePlugin.JpegImageFile image mode=...</td>\n",
       "      <td>A large herd of sheep standing in the grass ne...</td>\n",
       "      <td>Maneuver the image according to Monet's style.</td>\n",
       "      <td>&lt;PIL.JpegImagePlugin.JpegImageFile image mode=...</td>\n",
       "      <td>Capturing Monet's style, a large herd of sheep...</td>\n",
       "    </tr>\n",
       "    <tr>\n",
       "      <th>4</th>\n",
       "      <td>&lt;PIL.JpegImagePlugin.JpegImageFile image mode=...</td>\n",
       "      <td>This is a view of a large hill behind a tree.</td>\n",
       "      <td>Recharge the image with Monet's expression.</td>\n",
       "      <td>&lt;PIL.JpegImagePlugin.JpegImageFile image mode=...</td>\n",
       "      <td>\"Monet-esque view of a large hill behind a tree.\"</td>\n",
       "    </tr>\n",
       "  </tbody>\n",
       "</table>\n",
       "</div>"
      ],
      "text/plain": [
       "                                          source_img  \\\n",
       "0  <PIL.JpegImagePlugin.JpegImageFile image mode=...   \n",
       "1  <PIL.JpegImagePlugin.JpegImageFile image mode=...   \n",
       "2  <PIL.JpegImagePlugin.JpegImageFile image mode=...   \n",
       "3  <PIL.JpegImagePlugin.JpegImageFile image mode=...   \n",
       "4  <PIL.JpegImagePlugin.JpegImageFile image mode=...   \n",
       "\n",
       "                                      source_caption  \\\n",
       "0     View of a bench overlooking the ocean and sky.   \n",
       "1         Many yaks are grazing in a field of grass.   \n",
       "2  Several sheep are grazing in grass next to a w...   \n",
       "3  A large herd of sheep standing in the grass ne...   \n",
       "4     This is a view of a large hill behind a tree.    \n",
       "\n",
       "                                      instruction  \\\n",
       "0           Evolve this image into Monet’s style.   \n",
       "1        Post-process the image in Monet's style.   \n",
       "2              Show this image in a Monet format.   \n",
       "3  Maneuver the image according to Monet's style.   \n",
       "4     Recharge the image with Monet's expression.   \n",
       "\n",
       "                                          target_img  \\\n",
       "0  <PIL.JpegImagePlugin.JpegImageFile image mode=...   \n",
       "1  <PIL.JpegImagePlugin.JpegImageFile image mode=...   \n",
       "2  <PIL.JpegImagePlugin.JpegImageFile image mode=...   \n",
       "3  <PIL.JpegImagePlugin.JpegImageFile image mode=...   \n",
       "4  <PIL.JpegImagePlugin.JpegImageFile image mode=...   \n",
       "\n",
       "                                      target_caption  \n",
       "0  \"Monet's rendition of a bench overlooking the ...  \n",
       "1  A Monet-inspired scene of many yaks grazing in...  \n",
       "2  A Monet-style depiction of several sheep grazi...  \n",
       "3  Capturing Monet's style, a large herd of sheep...  \n",
       "4  \"Monet-esque view of a large hill behind a tree.\"  "
      ]
     },
     "execution_count": 75,
     "metadata": {},
     "output_type": "execute_result"
    }
   ],
   "source": [
    "paired_df.head()"
   ]
  },
  {
   "cell_type": "code",
   "execution_count": 77,
   "metadata": {},
   "outputs": [
    {
     "data": {
      "text/plain": [
       "280"
      ]
     },
     "execution_count": 77,
     "metadata": {},
     "output_type": "execute_result"
    }
   ],
   "source": [
    "len(paired_df)"
   ]
  },
  {
   "cell_type": "code",
   "execution_count": 78,
   "metadata": {},
   "outputs": [],
   "source": [
    "from datasets import Dataset, Features, Image, Value\n",
    "\n",
    "df_to_dict = paired_df.to_dict('list')\n",
    "features = Features({\n",
    "    'source_img': Image(decode=True),\n",
    "    'source_caption': Value(dtype='string'),\n",
    "    'instruction': Value(dtype='string'),\n",
    "    'target_img': Image(decode=True),\n",
    "    'target_caption': Value(dtype='string')\n",
    "})"
   ]
  },
  {
   "cell_type": "code",
   "execution_count": 79,
   "metadata": {},
   "outputs": [],
   "source": [
    "dataset = Dataset.from_dict(df_to_dict, features=features)"
   ]
  },
  {
   "cell_type": "code",
   "execution_count": 80,
   "metadata": {},
   "outputs": [
    {
     "data": {
      "application/vnd.jupyter.widget-view+json": {
       "model_id": "594898e3075b466ca8e116c91dc7cc92",
       "version_major": 2,
       "version_minor": 0
      },
      "text/plain": [
       "Map:   0%|          | 0/280 [00:00<?, ? examples/s]"
      ]
     },
     "metadata": {},
     "output_type": "display_data"
    },
    {
     "data": {
      "application/vnd.jupyter.widget-view+json": {
       "model_id": "925b6a8b57f847209849e2a069640c35",
       "version_major": 2,
       "version_minor": 0
      },
      "text/plain": [
       "Pushing dataset shards to the dataset hub:   0%|          | 0/1 [00:00<?, ?it/s]"
      ]
     },
     "metadata": {},
     "output_type": "display_data"
    },
    {
     "data": {
      "application/vnd.jupyter.widget-view+json": {
       "model_id": "06bac416a432441589dea3feedd338d0",
       "version_major": 2,
       "version_minor": 0
      },
      "text/plain": [
       "Creating parquet from Arrow format:   0%|          | 0/1 [00:00<?, ?ba/s]"
      ]
     },
     "metadata": {},
     "output_type": "display_data"
    },
    {
     "data": {
      "application/vnd.jupyter.widget-view+json": {
       "model_id": "e7ef1f051d044f49bb604ee768d8d376",
       "version_major": 2,
       "version_minor": 0
      },
      "text/plain": [
       "Downloading metadata:   0%|          | 0.00/531 [00:00<?, ?B/s]"
      ]
     },
     "metadata": {},
     "output_type": "display_data"
    },
    {
     "name": "stderr",
     "output_type": "stream",
     "text": [
      "Updating downloaded metadata with the new split.\n"
     ]
    }
   ],
   "source": [
    "dataset.push_to_hub('tianyi0216/mscoco_testing', private=False)"
   ]
  },
  {
   "cell_type": "code",
   "execution_count": 76,
   "metadata": {},
   "outputs": [
    {
     "data": {
      "text/html": [
       "<div>\n",
       "<style scoped>\n",
       "    .dataframe tbody tr th:only-of-type {\n",
       "        vertical-align: middle;\n",
       "    }\n",
       "\n",
       "    .dataframe tbody tr th {\n",
       "        vertical-align: top;\n",
       "    }\n",
       "\n",
       "    .dataframe thead th {\n",
       "        text-align: right;\n",
       "    }\n",
       "</style>\n",
       "<table border=\"1\" class=\"dataframe\">\n",
       "  <thead>\n",
       "    <tr style=\"text-align: right;\">\n",
       "      <th></th>\n",
       "      <th>source_img</th>\n",
       "      <th>source_caption</th>\n",
       "      <th>instruction</th>\n",
       "      <th>target_img</th>\n",
       "      <th>target_caption</th>\n",
       "    </tr>\n",
       "  </thead>\n",
       "  <tbody>\n",
       "    <tr>\n",
       "      <th>221</th>\n",
       "      <td>&lt;PIL.JpegImagePlugin.JpegImageFile image mode=...</td>\n",
       "      <td>a newly wedded couple cutting their wedding cake</td>\n",
       "      <td>Engage ukiyoe strategy in the image.</td>\n",
       "      <td>&lt;PIL.JpegImagePlugin.JpegImageFile image mode=...</td>\n",
       "      <td>a newly wedded couple are slicing through thei...</td>\n",
       "    </tr>\n",
       "  </tbody>\n",
       "</table>\n",
       "</div>"
      ],
      "text/plain": [
       "                                            source_img  \\\n",
       "221  <PIL.JpegImagePlugin.JpegImageFile image mode=...   \n",
       "\n",
       "                                       source_caption  \\\n",
       "221  a newly wedded couple cutting their wedding cake   \n",
       "\n",
       "                              instruction  \\\n",
       "221  Engage ukiyoe strategy in the image.   \n",
       "\n",
       "                                            target_img  \\\n",
       "221  <PIL.JpegImagePlugin.JpegImageFile image mode=...   \n",
       "\n",
       "                                        target_caption  \n",
       "221  a newly wedded couple are slicing through thei...  "
      ]
     },
     "execution_count": 76,
     "metadata": {},
     "output_type": "execute_result"
    }
   ],
   "source": [
    "paired_df[paired_df[\"source_caption\"] == \"a newly wedded couple cutting their wedding cake\"]"
   ]
  },
  {
   "cell_type": "code",
   "execution_count": 53,
   "metadata": {},
   "outputs": [
    {
     "data": {
      "text/plain": [
       "'000012227.jpg'"
      ]
     },
     "execution_count": 53,
     "metadata": {},
     "output_type": "execute_result"
    }
   ],
   "source": [
    "source[221]"
   ]
  },
  {
   "cell_type": "code",
   "execution_count": 54,
   "metadata": {},
   "outputs": [],
   "source": [
    "with open(\"testing_set_target/000012227.txt\", 'r') as file:\n",
    "        lines = file.read().split('\\n')[:-1]"
   ]
  },
  {
   "cell_type": "code",
   "execution_count": null,
   "metadata": {},
   "outputs": [],
   "source": []
  }
 ],
 "metadata": {
  "kernelspec": {
   "display_name": "base",
   "language": "python",
   "name": "python3"
  },
  "language_info": {
   "codemirror_mode": {
    "name": "ipython",
    "version": 3
   },
   "file_extension": ".py",
   "mimetype": "text/x-python",
   "name": "python",
   "nbconvert_exporter": "python",
   "pygments_lexer": "ipython3",
   "version": "3.11.5"
  }
 },
 "nbformat": 4,
 "nbformat_minor": 2
}
